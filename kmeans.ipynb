{
  "cells": [
    {
      "cell_type": "markdown",
      "id": "22db22db",
      "metadata": {
        "papermill": {
          "duration": 0.003606,
          "end_time": "2024-12-01T02:19:04.908743",
          "exception": false,
          "start_time": "2024-12-01T02:19:04.905137",
          "status": "completed"
        },
        "tags": [],
        "id": "22db22db"
      },
      "source": [
        "## IMPORTING PACKAGES"
      ]
    },
    {
      "cell_type": "code",
      "execution_count": 1,
      "id": "df66ce82",
      "metadata": {
        "execution": {
          "iopub.execute_input": "2024-12-01T02:19:04.918613Z",
          "iopub.status.busy": "2024-12-01T02:19:04.917577Z",
          "iopub.status.idle": "2024-12-01T02:19:06.411004Z",
          "shell.execute_reply": "2024-12-01T02:19:06.409622Z"
        },
        "papermill": {
          "duration": 1.50149,
          "end_time": "2024-12-01T02:19:06.414123",
          "exception": false,
          "start_time": "2024-12-01T02:19:04.912633",
          "status": "completed"
        },
        "tags": [],
        "id": "df66ce82"
      },
      "outputs": [],
      "source": [
        "import time\n",
        "import warnings\n",
        "warnings.filterwarnings(\"ignore\")\n",
        "import os\n",
        "import numpy as np\n",
        "import pandas as pd"
      ]
    },
    {
      "cell_type": "code",
      "execution_count": 2,
      "id": "bbc33e40",
      "metadata": {
        "execution": {
          "iopub.execute_input": "2024-12-01T02:19:06.426956Z",
          "iopub.status.busy": "2024-12-01T02:19:06.426173Z",
          "iopub.status.idle": "2024-12-01T02:19:07.375546Z",
          "shell.execute_reply": "2024-12-01T02:19:07.374463Z"
        },
        "papermill": {
          "duration": 0.957432,
          "end_time": "2024-12-01T02:19:07.378094",
          "exception": false,
          "start_time": "2024-12-01T02:19:06.420662",
          "status": "completed"
        },
        "tags": [],
        "colab": {
          "base_uri": "https://localhost:8080/"
        },
        "id": "bbc33e40",
        "outputId": "96eb9bd8-b8d4-4a89-9cd6-a2c9512bc4cd"
      },
      "outputs": [
        {
          "output_type": "execute_result",
          "data": {
            "text/plain": [
              "10"
            ]
          },
          "metadata": {},
          "execution_count": 2
        }
      ],
      "source": [
        "X = pd.read_csv('data.csv', header=None)\n",
        "y = pd.read_csv('label.csv', header=None)\n",
        "y.columns = ['target']\n",
        "num_clusters = y['target'].nunique()\n",
        "\n",
        "combined = pd.concat([X, y], axis=1)\n",
        "X = combined.iloc[:, :-1].values\n",
        "y = combined.iloc[:, -1].values\n",
        "num_clusters"
      ]
    },
    {
      "cell_type": "code",
      "execution_count": 3,
      "id": "e8550789",
      "metadata": {
        "execution": {
          "iopub.execute_input": "2024-12-01T02:19:07.415340Z",
          "iopub.status.busy": "2024-12-01T02:19:07.414359Z",
          "iopub.status.idle": "2024-12-01T02:19:07.423330Z",
          "shell.execute_reply": "2024-12-01T02:19:07.422218Z"
        },
        "papermill": {
          "duration": 0.016963,
          "end_time": "2024-12-01T02:19:07.426199",
          "exception": false,
          "start_time": "2024-12-01T02:19:07.409236",
          "status": "completed"
        },
        "tags": [],
        "id": "e8550789"
      },
      "outputs": [],
      "source": [
        "class utils():\n",
        "    def euclidean(A, B):\n",
        "        return np.linalg.norm(A[:, np.newaxis] - B, axis=2)\n",
        "    def cosine(A, B):\n",
        "        dot_prod = np.dot(A, B.T)\n",
        "        norm_A = np.linalg.norm(A, axis=1)[:, np.newaxis]\n",
        "        norm_B = np.linalg.norm(B, axis=1)\n",
        "        return 1 - dot_prod / (norm_A * norm_B)\n",
        "    def jaccard(A, B):\n",
        "        inter = np.minimum(A[:, np.newaxis], B).sum(axis=2)\n",
        "        uni = np.maximum(A[:, np.newaxis], B).sum(axis=2)\n",
        "        return 1 - inter / uni\n",
        "    def dist_euclidean(x1, x2):\n",
        "        return np.linalg.norm(x1 - x2)\n",
        "\n",
        "    def dist_cosine(x1, x2):\n",
        "        norm_x1 = np.linalg.norm(x1)\n",
        "        norm_x2 = np.linalg.norm(x2)\n",
        "        if norm_x1 == 0 or norm_x2 == 0:\n",
        "            return 1\n",
        "        return 1 - np.dot(x1, x2) / (norm_x1 * norm_x2)\n",
        "\n",
        "    def dist_jaccard(x1, x2):\n",
        "        intersection = np.sum(np.minimum(x1, x2))\n",
        "        union = np.sum(np.maximum(x1, x2))\n",
        "        if union == 0:\n",
        "            return 1\n",
        "        return 1 - intersection / union\n",
        "\n",
        "    def euclidean1(x1, x2):\n",
        "        return np.linalg.norm(x1 - x2, axis=-1)\n",
        "\n",
        "    def cosine1(x1, x2):\n",
        "        dot_product = np.dot(x1, x2)\n",
        "        norm_x1 = np.linalg.norm(x1, axis=-1)\n",
        "        norm_x2 = np.linalg.norm(x2)\n",
        "        return 1 - dot_product / (norm_x1 * norm_x2)\n",
        "\n",
        "    def jaccard1(x1, x2):\n",
        "        intersection = np.minimum(x1, x2).sum(axis=-1)\n",
        "        union = np.maximum(x1, x2).sum(axis=-1)\n",
        "        return 1 - intersection / union"
      ]
    },
    {
      "cell_type": "code",
      "execution_count": 4,
      "id": "94332658",
      "metadata": {
        "execution": {
          "iopub.execute_input": "2024-12-01T02:19:07.441582Z",
          "iopub.status.busy": "2024-12-01T02:19:07.441170Z",
          "iopub.status.idle": "2024-12-01T02:19:07.450918Z",
          "shell.execute_reply": "2024-12-01T02:19:07.449751Z"
        },
        "papermill": {
          "duration": 0.019696,
          "end_time": "2024-12-01T02:19:07.453086",
          "exception": false,
          "start_time": "2024-12-01T02:19:07.433390",
          "status": "completed"
        },
        "tags": [],
        "id": "94332658"
      },
      "outputs": [],
      "source": [
        "\n",
        "def kmeans(data_points, num_clusters, distance_function, max_iterations=200):\n",
        "    num_points = data_points.shape[0]\n",
        "    centers = data_points[np.random.choice(num_points, num_clusters, replace=False)]\n",
        "\n",
        "    for iteration in range(max_iterations):\n",
        "        dist_matrix = distance_function(data_points, centers)\n",
        "        cluster_assignments = np.argmin(dist_matrix, axis=1)\n",
        "\n",
        "        updated_centers = np.array([data_points[cluster_assignments == j].mean(axis=0) for j in range(num_clusters)])\n",
        "        if np.all(centers == updated_centers):\n",
        "            break\n",
        "        centers = updated_centers\n",
        "\n",
        "    sse = np.sum(np.min(distance_function(data_points, centers)**2, axis=1))\n",
        "    return cluster_assignments, centers, sse\n"
      ]
    },
    {
      "cell_type": "code",
      "execution_count": 5,
      "id": "6dfd3d37",
      "metadata": {
        "execution": {
          "iopub.execute_input": "2024-12-01T02:19:07.473226Z",
          "iopub.status.busy": "2024-12-01T02:19:07.472093Z",
          "iopub.status.idle": "2024-12-01T02:20:47.820331Z",
          "shell.execute_reply": "2024-12-01T02:20:47.819125Z"
        },
        "papermill": {
          "duration": 100.360282,
          "end_time": "2024-12-01T02:20:47.826630",
          "exception": false,
          "start_time": "2024-12-01T02:19:07.466348",
          "status": "completed"
        },
        "tags": [],
        "colab": {
          "base_uri": "https://localhost:8080/"
        },
        "id": "6dfd3d37",
        "outputId": "acff42ab-fcda-43d5-dbef-68a168eb7a8b"
      },
      "outputs": [
        {
          "output_type": "stream",
          "name": "stdout",
          "text": [
            "sse -\n",
            "Euclidean: 25484127692.115\n",
            "Cosine: 681.841\n",
            "Jaccard: 3661.362\n"
          ]
        }
      ],
      "source": [
        "# Q1\n",
        "distances = [utils.euclidean, utils.cosine, utils.jaccard]\n",
        "names = ['Euclidean', 'Cosine', 'Jaccard']\n",
        "results = {}\n",
        "for metric, name in zip(distances, names):\n",
        "    labels, centroids, sse = kmeans(X, num_clusters, metric)\n",
        "    results[name] = {'SSE': sse}\n",
        "print('sse -')\n",
        "for name, result in results.items():\n",
        "    print(f\"{name}: {result['SSE']:.3f}\")\n"
      ]
    },
    {
      "cell_type": "code",
      "execution_count": 6,
      "id": "a749cfce",
      "metadata": {
        "execution": {
          "iopub.execute_input": "2024-12-01T02:20:47.844689Z",
          "iopub.status.busy": "2024-12-01T02:20:47.844291Z",
          "iopub.status.idle": "2024-12-01T02:26:48.760145Z",
          "shell.execute_reply": "2024-12-01T02:26:48.758815Z"
        },
        "papermill": {
          "duration": 360.928315,
          "end_time": "2024-12-01T02:26:48.767147",
          "exception": false,
          "start_time": "2024-12-01T02:20:47.838832",
          "status": "completed"
        },
        "tags": [],
        "colab": {
          "base_uri": "https://localhost:8080/"
        },
        "id": "a749cfce",
        "outputId": "8bab8e39-71d0-4fb6-84da-9abfea5e9ec3"
      },
      "outputs": [
        {
          "output_type": "stream",
          "name": "stdout",
          "text": [
            "Euclidean K-means Accuracy: 78.110%\n",
            "Cosine K-means Accuracy: 77.630%\n",
            "Jaccard K-means Accuracy: 74.800%\n"
          ]
        }
      ],
      "source": [
        "# Q2\n",
        "\n",
        "def kmeans(features, num_clusters, distance_function, max_iterations=200):\n",
        "    num_samples, num_features = features.shape\n",
        "    centroids = features[np.random.choice(num_samples, num_clusters, replace=False)]\n",
        "    assignments = np.zeros(num_samples)\n",
        "\n",
        "    for iter in range(max_iterations):\n",
        "        for idx in range(num_samples):\n",
        "            distances = [distance_function(features[idx], center) for center in centroids]\n",
        "            assignments[idx] = np.argmin(distances)\n",
        "\n",
        "        for cluster_idx in range(num_clusters):\n",
        "            cluster_filter = assignments == cluster_idx\n",
        "            if np.any(cluster_filter):\n",
        "                centroids[cluster_idx] = np.mean(features[cluster_filter], axis=0)\n",
        "\n",
        "    cluster_majority_labels = np.zeros(num_clusters)\n",
        "    for cluster_idx in range(num_clusters):\n",
        "        cluster_filter = assignments == cluster_idx\n",
        "        if np.any(cluster_filter):\n",
        "            dominant_label = np.argmax(np.bincount(labels[cluster_filter].astype(int)))\n",
        "            cluster_majority_labels[cluster_idx] = dominant_label\n",
        "\n",
        "    predictions = np.array([cluster_majority_labels[int(assignment)] for assignment in assignments])\n",
        "    acc = np.sum(predictions == labels) / len(labels)\n",
        "\n",
        "    return acc\n",
        "\n",
        "dist_metrics = [utils.dist_euclidean, utils.dist_cosine, utils.dist_jaccard]\n",
        "scores = {}\n",
        "\n",
        "for distance, name in zip(dist_metrics, names):\n",
        "    acc = kmeans(X, num_clusters, distance)\n",
        "    print(f\"{name} K-means Accuracy: {acc * 100:.3f}%\")"
      ]
    },
    {
      "cell_type": "code",
      "execution_count": 10,
      "id": "b765fd5d",
      "metadata": {
        "execution": {
          "iopub.execute_input": "2024-12-01T02:26:48.786112Z",
          "iopub.status.busy": "2024-12-01T02:26:48.785739Z",
          "iopub.status.idle": "2024-12-01T02:29:18.099189Z",
          "shell.execute_reply": "2024-12-01T02:29:18.097871Z"
        },
        "papermill": {
          "duration": 149.325404,
          "end_time": "2024-12-01T02:29:18.105500",
          "exception": false,
          "start_time": "2024-12-01T02:26:48.780096",
          "status": "completed"
        },
        "tags": [],
        "colab": {
          "base_uri": "https://localhost:8080/"
        },
        "id": "b765fd5d",
        "outputId": "3b3e1597-ea86-4be2-c4cd-146bf9c6849f"
      },
      "outputs": [
        {
          "output_type": "stream",
          "name": "stdout",
          "text": [
            "Euclidean, SSE: 25323674868.06286, time: 33.68846940994263, stop at: 37\n",
            "Cosine, SSE: 681.9138402294462, time: 64.65984344482422, stop at: 51\n",
            "Jaccard, SSE: 3660.540464407733, time: 52.63206648826599, stop at: 49\n"
          ]
        }
      ],
      "source": [
        "#Q3\n",
        "def kmeans(data, k, metric, iterations=100, threshold=1e-4):\n",
        "    num_samples, num_features = data.shape\n",
        "    centroids = data[np.random.choice(num_samples, k, replace=False)]\n",
        "    for iter in range(iterations):\n",
        "        distances = np.array([metric(data, c) for c in centroids])\n",
        "        cluster_assignments = np.argmin(distances, axis=0)\n",
        "        new_centroids = np.array([data[cluster_assignments == j].mean(axis=0) for j in range(k)])\n",
        "        if np.all(np.abs(new_centroids - centroids) < threshold):\n",
        "            break\n",
        "        centroids = new_centroids\n",
        "    sse = np.sum([metric(data[i], centroids[cluster_assignments[i]])**2 for i in range(num_samples)])\n",
        "    return cluster_assignments, centroids, iter + 1, sse\n",
        "metrics = [utils.euclidean1, utils.cosine1, utils.jaccard1]\n",
        "for metric, name in zip(metrics, names):\n",
        "    st = time.time()\n",
        "    cluster_labels, cluster_centroids, iterations, sse = kmeans(X, num_clusters, metric)\n",
        "    en = time.time()\n",
        "    print(f'{name}, SSE: {sse}, time: {en-st}, stop at: {iterations}')\n",
        ""
      ]
    },
    {
      "cell_type": "code",
      "source": [
        "def dist_euclidean(X, Y):\n",
        "    return np.linalg.norm(X - Y, axis=1)\n",
        "\n",
        "def sim_cosine(X, Y):\n",
        "    dot_product = np.sum(X * Y, axis=1)\n",
        "    norm_X = np.linalg.norm(X, axis=1)\n",
        "    norm_Y = np.linalg.norm(Y)\n",
        "    return 1 - dot_product / (norm_X * norm_Y)\n",
        "\n",
        "def sim_jaccard(X, Y):\n",
        "    intersection = np.sum(np.minimum(X, Y), axis=1)\n",
        "    union = np.sum(np.maximum(X, Y), axis=1)\n",
        "    return 1 - intersection / union"
      ],
      "metadata": {
        "id": "EnSk3xayyik4"
      },
      "id": "EnSk3xayyik4",
      "execution_count": 11,
      "outputs": []
    },
    {
      "cell_type": "code",
      "execution_count": 17,
      "id": "2ee7ef9c",
      "metadata": {
        "execution": {
          "iopub.execute_input": "2024-12-01T02:29:18.125206Z",
          "iopub.status.busy": "2024-12-01T02:29:18.124786Z",
          "iopub.status.idle": "2024-12-01T02:41:06.956104Z",
          "shell.execute_reply": "2024-12-01T02:41:06.954972Z"
        },
        "papermill": {
          "duration": 708.844465,
          "end_time": "2024-12-01T02:41:06.963327",
          "exception": false,
          "start_time": "2024-12-01T02:29:18.118862",
          "status": "completed"
        },
        "tags": [],
        "colab": {
          "base_uri": "https://localhost:8080/"
        },
        "id": "2ee7ef9c",
        "outputId": "fc1bc12a-fdc0-485c-a5dd-f503682311e8"
      },
      "outputs": [
        {
          "output_type": "stream",
          "name": "stdout",
          "text": [
            "Euclidean no change: 25423008529.697197\n",
            "Euclidean sse increase: 25323825731.262337\n",
            "Euclidean max iterations: 25536326668.147835\n",
            "Cosine no change: 687.0408283771499\n",
            "Cosine sse increase: 685.1686831854902\n",
            "Cosine max iterations: 681.9577853410699\n",
            "Jaccard no change: 3661.4583181338\n",
            "Jaccard sse increase: 3661.4056538572645\n",
            "Jaccard max iterations: 3660.711219349269\n"
          ]
        }
      ],
      "source": [
        "\n",
        "# Q4\n",
        "def kmeans(data, k, dist_metric, stopping, iterations=100):\n",
        "    num_samples, num_features = data.shape\n",
        "    centr = data[np.random.choice(num_samples, k, replace=False)]\n",
        "    prev_sse = float('inf')\n",
        "    prev_centroids = np.copy(centr)\n",
        "\n",
        "    stop_criterion = None\n",
        "\n",
        "    for iteration in range(iterations):\n",
        "        distances = np.array([dist_metric(data, c) for c in centr])\n",
        "\n",
        "        if distances.ndim == 1:\n",
        "            distances = distances.reshape(1, -1)\n",
        "        elif distances.shape[0] != num_samples:\n",
        "            distances = distances.T\n",
        "\n",
        "        cluster_assignments = np.argmin(distances, axis=1)\n",
        "\n",
        "        new_centr = []\n",
        "        for j in range(k):\n",
        "            cluster_points = data[cluster_assignments == j]\n",
        "            if len(cluster_points) > 0:\n",
        "                new_centr.append(cluster_points.mean(axis=0))\n",
        "            else:\n",
        "                new_centr.append(centr[j])\n",
        "        updated_centr = np.array(new_centr)\n",
        "\n",
        "        sse = np.sum([dist_metric(data[i:i+1], updated_centr[cluster_assignments[i]])**2 for i in range(num_samples)])\n",
        "\n",
        "        if stopping == 'no_change' and np.all(np.abs(updated_centr - centr) < 1e-4):\n",
        "            stop_criterion = 'no_change_in_centroids'\n",
        "            break\n",
        "        elif stopping == 'sse_increase' and sse > prev_sse:\n",
        "            stop_criterion = 'sse_increase'\n",
        "            break\n",
        "        elif stopping == 'max_iterations' and iteration == iterations - 1:\n",
        "            stop_criterion = 'max_iterations'\n",
        "            break\n",
        "\n",
        "        prev_sse = sse\n",
        "        prev_centroids = np.copy(updated_centr)\n",
        "        centr = updated_centr\n",
        "\n",
        "    if stop_criterion is None:\n",
        "        stop_criterion = 'max_iterations'\n",
        "\n",
        "    return cluster_assignments, centr, iteration + 1, sse, stop_criterion\n",
        "\n",
        "metrics = [dist_euclidean, sim_cosine, sim_jaccard]\n",
        "names = ['Euclidean', 'Cosine', 'Jaccard']\n",
        "\n",
        "\n",
        "for metric, name in zip(metrics, names):\n",
        "    cluster_labels, cluster_centroids, num_iterations, sse, stop_criterion = kmeans(X, num_clusters, metric, stopping='no_change')\n",
        "    print(f'{name} no change: {sse}')\n",
        "\n",
        "    cluster_labels, cluster_centroids, num_iterations, sse, stop_criterion = kmeans(X, num_clusters, metric, stopping='sse_increase')\n",
        "    print(f'{name} sse increase: {sse}')\n",
        "\n",
        "    cluster_labels, cluster_centroids, num_iterations, sse, stop_criterion = kmeans(X, num_clusters, metric, stopping='max_iterations')\n",
        "    print(f'{name} max iterations: {sse}')\n"
      ]
    }
  ],
  "metadata": {
    "kaggle": {
      "accelerator": "none",
      "dataSources": [
        {
          "datasetId": 5969472,
          "sourceId": 9750354,
          "sourceType": "datasetVersion"
        }
      ],
      "dockerImageVersionId": 30786,
      "isGpuEnabled": false,
      "isInternetEnabled": true,
      "language": "python",
      "sourceType": "notebook"
    },
    "kernelspec": {
      "display_name": "Python 3",
      "name": "python3"
    },
    "language_info": {
      "codemirror_mode": {
        "name": "ipython",
        "version": 3
      },
      "file_extension": ".py",
      "mimetype": "text/x-python",
      "name": "python",
      "nbconvert_exporter": "python",
      "pygments_lexer": "ipython3",
      "version": "3.10.14"
    },
    "papermill": {
      "default_parameters": {},
      "duration": 1326.351324,
      "end_time": "2024-12-01T02:41:07.606827",
      "environment_variables": {},
      "exception": null,
      "input_path": "__notebook__.ipynb",
      "output_path": "__notebook__.ipynb",
      "parameters": {},
      "start_time": "2024-12-01T02:19:01.255503",
      "version": "2.6.0"
    },
    "colab": {
      "provenance": []
    }
  },
  "nbformat": 4,
  "nbformat_minor": 5
}